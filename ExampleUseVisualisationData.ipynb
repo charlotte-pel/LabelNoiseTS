{
 "cells": [
  {
   "cell_type": "code",
   "execution_count": null,
   "metadata": {
    "collapsed": true
   },
   "outputs": [],
   "source": [
    "from GenLabelNoiseTS.GenLabelNoiseTS import *\n",
    "\n",
    "classList = ('Corn', 'Corn_Ensilage', 'Sorghum', 'Sunflower', 'Soy',\n",
    "                 'Wheat', 'Rapeseed', 'Barley',\n",
    "                 'Evergreen', 'Decideous')\n",
    "generator = GenLabelNoiseTS(filename=\"dataFrame.h5\", rep='./src/file/', classList=classList, csv=True,\n",
    "                            verbose=True)\n",
    "\n",
    "generator.visuTest(typePlot='mean')\n",
    "generator.visuTest(typePlot='mean', className='Corn')\n",
    "generator.visuTest(typePlot='all', className='Corn')\n",
    "generator.visuTest(typePlot='random', className='Corn')\n",
    "generator.visuTest(typePlot='randomPoly', className='Corn')"
   ]
  }
 ],
 "metadata": {
  "kernelspec": {
   "display_name": "Python 3",
   "language": "python",
   "name": "python3"
  },
  "language_info": {
   "codemirror_mode": {
    "name": "ipython",
    "version": 2
   },
   "file_extension": ".py",
   "mimetype": "text/x-python",
   "name": "python",
   "nbconvert_exporter": "python",
   "pygments_lexer": "ipython2",
   "version": "2.7.6"
  }
 },
 "nbformat": 4,
 "nbformat_minor": 0
}