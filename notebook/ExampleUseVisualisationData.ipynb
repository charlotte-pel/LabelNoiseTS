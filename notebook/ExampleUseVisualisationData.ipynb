{
 "cells": [
  {
   "cell_type": "code",
   "execution_count": null,
   "metadata": {
    "collapsed": true
   },
   "outputs": [],
   "source": [
    "from GenLabelNoiseTS.GenLabelNoiseTS import *\n",
    "\n",
    "path = '../src/file/'\n",
    "\n",
    "classList = ('Corn', 'Corn_Ensilage', 'Sorghum', 'Sunflower', 'Soy',\n",
    "                 'Wheat', 'Rapeseed', 'Barley',\n",
    "                 'Evergreen', 'Decideous')\n",
    "generator = GenLabelNoiseTS(filename=\"dataset.h5\", dir=path, classList=classList, csv=True,\n",
    "                            verbose=True)\n",
    "\n",
    "generator.visuTest(typePlot='mean')"
   ]
  },
  {
   "cell_type": "code",
   "execution_count": null,
   "outputs": [],
   "source": [
    "generator.visuTest(typePlot='mean', className='Corn')"
   ],
   "metadata": {
    "collapsed": false,
    "pycharm": {
     "name": "#%%\n"
    }
   }
  },
  {
   "cell_type": "code",
   "execution_count": null,
   "outputs": [],
   "source": [
    "generator.visuTest(typePlot='all', className='Corn')"
   ],
   "metadata": {
    "collapsed": false,
    "pycharm": {
     "name": "#%%\n"
    }
   }
  },
  {
   "cell_type": "code",
   "execution_count": null,
   "outputs": [],
   "source": [
    "generator.visuTest(typePlot='random', className='Corn', noProlfile=20)"
   ],
   "metadata": {
    "collapsed": false,
    "pycharm": {
     "name": "#%%\n"
    }
   }
  },
  {
   "cell_type": "code",
   "execution_count": null,
   "outputs": [],
   "source": [
    "generator.visuTest(typePlot='randomPoly', className='Corn')"
   ],
   "metadata": {
    "collapsed": false,
    "pycharm": {
     "name": "#%%\n"
    }
   }
  }
 ],
 "metadata": {
  "kernelspec": {
   "display_name": "Python 3",
   "language": "python",
   "name": "python3"
  },
  "language_info": {
   "codemirror_mode": {
    "name": "ipython",
    "version": 2
   },
   "file_extension": ".py",
   "mimetype": "text/x-python",
   "name": "python",
   "nbconvert_exporter": "python",
   "pygments_lexer": "ipython2",
   "version": "2.7.6"
  }
 },
 "nbformat": 4,
 "nbformat_minor": 0
}