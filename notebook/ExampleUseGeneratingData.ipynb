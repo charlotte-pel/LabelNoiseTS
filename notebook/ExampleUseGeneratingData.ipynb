{
 "cells": [
  {
   "cell_type": "code",
   "execution_count": null,
   "metadata": {
    "pycharm": {
     "name": "#%%\n"
    }
   },
   "outputs": [],
   "source": [
    "from GenLabelNoiseTS.GenLabelNoiseTS import *\n",
    "\n",
    "path = '../somePath/'\n",
    "\n",
    "generator = GenLabelNoiseTS(filename=\"dataset.h5\", classList=('Wheat','Barley'), csv=True, verbose=True, dir=path)\n",
    "a = {'Wheat': 'Barley', 'Barley': 'Wheat'}\n",
    "(X,Y) = generator.getDataXY()\n",
    "(Xnoise,YNoise) = generator.getNoiseDataXY(0.05,a)\n",
    "(Xtest,Ytest) = generator.getTestData()\n",
    "generator.defaultVisualisation()"
   ]
  }
 ],
 "metadata": {
  "kernelspec": {
   "display_name": "Python 3",
   "language": "python",
   "name": "python3"
  },
  "language_info": {
   "codemirror_mode": {
    "name": "ipython",
    "version": 3
   },
   "file_extension": ".py",
   "mimetype": "text/x-python",
   "name": "python",
   "nbconvert_exporter": "python",
   "pygments_lexer": "ipython3",
   "version": "3.7.6"
  }
 },
 "nbformat": 4,
 "nbformat_minor": 4
}