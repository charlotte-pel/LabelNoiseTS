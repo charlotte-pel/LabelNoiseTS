{
 "cells": [
  {
   "cell_type": "code",
   "execution_count": null,
   "metadata": {
    "collapsed": true
   },
   "outputs": [],
   "source": [
    "from EvalAlgo.EvalAlgo import *\n",
    "\n",
    "pathTwoClass = './data/TwoClass/'\n",
    "pathFiveClass = './data/FiveClass/'\n",
    "pathTenClass = './data/TenClass/'\n",
    "\n",
    "systematicChange = False\n",
    "nbclass = 2\n",
    "seed = 0\n",
    "\n",
    "EvalAlgo(pathTwoClass, nbclass, seed, systematicChange)\n",
    "visualisationEval(pathTwoClass, 'Two classes', systematicChange)\n"
   ]
  }
 ],
 "metadata": {
  "kernelspec": {
   "display_name": "Python 3",
   "language": "python",
   "name": "python3"
  },
  "language_info": {
   "codemirror_mode": {
    "name": "ipython",
    "version": 2
   },
   "file_extension": ".py",
   "mimetype": "text/x-python",
   "name": "python",
   "nbconvert_exporter": "python",
   "pygments_lexer": "ipython2",
   "version": "2.7.6"
  }
 },
 "nbformat": 4,
 "nbformat_minor": 0
}