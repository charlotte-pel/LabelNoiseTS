{
 "cells": [
  {
   "cell_type": "code",
   "execution_count": null,
   "metadata": {
    "pycharm": {
     "name": "#%%\n"
    }
   },
   "outputs": [],
   "source": [
    "from SyntSITSLabelNoise.GeneratorData import *\n",
    "\n",
    "generator = GeneratorData(\"src/dataFrame.h5\")\n",
    "a = {'Wheat': 'Barley', 'Barley': 'Soy'}\n",
    "(X,Y) = generator.getDataXY()\n",
    "(Xnoise,YNoise) = generator.getNoiseDataXY(0.05,a)\n",
    "(Xtest,Ytest) = (generator.getTestData())"
   ]
  }
 ],
 "metadata": {
  "kernelspec": {
   "display_name": "Python 3",
   "language": "python",
   "name": "python3"
  },
  "language_info": {
   "codemirror_mode": {
    "name": "ipython",
    "version": 3
   },
   "file_extension": ".py",
   "mimetype": "text/x-python",
   "name": "python",
   "nbconvert_exporter": "python",
   "pygments_lexer": "ipython3",
   "version": "3.7.6"
  }
 },
 "nbformat": 4,
 "nbformat_minor": 4
}