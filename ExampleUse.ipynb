{
 "cells": [
  {
   "cell_type": "code",
   "execution_count": 3,
   "metadata": {
    "pycharm": {
     "name": "#%%\n"
    }
   },
   "outputs": [
    {
     "name": "stdout",
     "output_type": "stream",
     "text": [
      "Init Start !\n",
      "Init Done !\n",
      "Generate Data Done !\n",
      "Generate Noise Already Done !\n",
      "Generate Test-Data Done !\n"
     ]
    }
   ],
   "source": [
    "from SyntSITSLabelNoise.GenData import *\n",
    "\n",
    "generator = GeneratorData(\"src/dataFrame.h5\")\n",
    "a = {'Wheat': 'Barley', 'Barley': 'Soy'}\n",
    "(X,Y) = generator.getDataXY()\n",
    "(Xnoise,YNoise) = generator.getNoiseDataXY(0.05,a)\n",
    "(Xtest,Ytest) = (generator.getTestData())"
   ]
  }
 ],
 "metadata": {
  "kernelspec": {
   "display_name": "Python 3",
   "language": "python",
   "name": "python3"
  },
  "language_info": {
   "codemirror_mode": {
    "name": "ipython",
    "version": 3
   },
   "file_extension": ".py",
   "mimetype": "text/x-python",
   "name": "python",
   "nbconvert_exporter": "python",
   "pygments_lexer": "ipython3",
   "version": "3.7.6"
  }
 },
 "nbformat": 4,
 "nbformat_minor": 4
}